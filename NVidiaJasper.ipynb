{
 "cells": [
  {
   "cell_type": "markdown",
   "metadata": {
    "colab_type": "text",
    "id": "3KUlO4oiA8CM"
   },
   "source": [
    "# Speech Recognition with Jasper\n",
    "\n",
    "This notebook uses [Jasper](https://arxiv.org/abs/1904.03288) from the open source project [NVIDIA/OpenSeq2Seq](https://github.com/NVIDIA/OpenSeq2Seq.git) to transcribe a given youtube video.\n",
    "\n",
    "For other deep-learning Colab notebooks, visit [tugstugi/dl-colab-notebooks](https://github.com/tugstugi/dl-colab-notebooks).\n",
    "\n",
    "\n",
    "## Install NVIDIA/OpenSeq2Seq"
   ]
  },
  {
   "cell_type": "code",
   "execution_count": 10,
   "metadata": {
    "colab": {
     "base_uri": "https://localhost:8080/",
     "height": 88
    },
    "colab_type": "code",
    "id": "4OAYywPHApuz",
    "outputId": "6ea48930-53a7-489a-f6aa-17ec459fbd93"
   },
   "outputs": [
    {
     "name": "stdout",
     "output_type": "stream",
     "text": [
      "fatal: not a git repository (or any parent up to mount point /content)\n",
      "Stopping at filesystem boundary (GIT_DISCOVERY_ACROSS_FILESYSTEM not set).\n",
      "\u001b[33mWARNING: Skipping pymc3 as it is not installed.\u001b[0m\n",
      "Requirement already up-to-date: joblib in /usr/local/lib/python3.6/dist-packages (0.15.1)\n"
     ]
    }
   ],
   "source": [
    "import os\n",
    "from os.path import exists, join, basename, splitext\n",
    "\n",
    "git_repo_url = 'https://github.com/NVIDIA/OpenSeq2Seq.git'\n",
    "project_name = splitext(basename(git_repo_url))[0]\n",
    "if not exists(project_name):\n",
    "  # clone and install dependencies\n",
    "  !git clone -q --depth 1 {git_repo_url}\n",
    "  !git checkout e958b7d\n",
    "  !pip uninstall -y -q pymc3\n",
    "  !pip install --upgrade joblib\n",
    "  #!cd {project_name} && pip install -q -r requirements.txt\n",
    "  !pip install -q youtube-dl librosa python_speech_features sentencepiece\n",
    "  \n",
    "  # create eval config\n",
    "  !cp {project_name}/example_configs/speech2text/jasper10x5_LibriSpeech_nvgrad.py {project_name}/conf.py\n",
    "  !sed -i -e 's/\\/data\\/librispeech\\/librivox-test-clean/test/' {project_name}/conf.py\n",
    "  #!sed -i -e 's/# \"use_lang/\"use_lang/' {project_name}/conf.py\n",
    "  !echo 'backend = \"librosa\"' >> {project_name}/conf.py \n",
    "  #!cat {project_name}/conf.py\n",
    "  !echo \"wav_filename, wav_filesize, transcript\" > {project_name}/test.csv\n",
    "  !echo \"test.wav, UNUSED, UNUSED\" >> {project_name}/test.csv\n",
    "  \n",
    "import sys\n",
    "sys.path.append(project_name)\n",
    "from IPython.display import YouTubeVideo"
   ]
  },
  {
   "cell_type": "markdown",
   "metadata": {
    "colab_type": "text",
    "id": "E_4ycaB7aRd4"
   },
   "source": [
    "## Download pre-trained Model"
   ]
  },
  {
   "cell_type": "code",
   "execution_count": 11,
   "metadata": {
    "colab": {
     "base_uri": "https://localhost:8080/",
     "height": 230
    },
    "colab_type": "code",
    "id": "P7eRRjlYaV1s",
    "outputId": "4d86ea8a-79e1-4dd6-fb98-d0184613df10"
   },
   "outputs": [
    {
     "name": "stdout",
     "output_type": "stream",
     "text": [
      "  % Total    % Received % Xferd  Average Speed   Time    Time     Time  Current\n",
      "                                 Dload  Upload   Total   Spent    Left  Speed\n",
      "\r",
      "  0     0    0     0    0     0      0      0 --:--:-- --:--:-- --:--:--     0\r",
      "100   408    0   408    0     0   2666      0 --:--:-- --:--:-- --:--:--  2684\n",
      "\r",
      "  0     0    0     0    0     0      0      0 --:--:-- --:--:-- --:--:--     0\n",
      "  0     0    0     0    0     0      0      0 --:--:-- --:--:-- --:--:--     0\n",
      "100 2960M    0 2960M    0     0  60.0M      0 --:--:--  0:00:49 --:--:-- 43.9M\n",
      "Archive:  jasper_10x5_dr_sp_nvgrad.zip\n",
      "   creating: checkpoint/\n",
      "  inflating: checkpoint/checkpoint   \n",
      "  inflating: checkpoint/model.ckpt-439200.data-00000-of-00001  \n",
      "  inflating: checkpoint/model.ckpt-439200.index  \n",
      "  inflating: checkpoint/model.ckpt-439200.meta  \n"
     ]
    }
   ],
   "source": [
    "def download_from_google_drive(file_id, file_name):\n",
    "  # download a file from the Google Drive link\n",
    "  !rm -f ./cookie\n",
    "  !curl -c ./cookie -s -L \"https://drive.google.com/uc?export=download&id={file_id}\" > /dev/null\n",
    "  confirm_text = !awk '/download/ {print $NF}' ./cookie\n",
    "  confirm_text = confirm_text[0]\n",
    "  !curl -Lb ./cookie \"https://drive.google.com/uc?export=download&confirm={confirm_text}&id={file_id}\" -o {file_name}\n",
    "  \n",
    "if not exists(join(project_name, 'w2l_log_folder')):\n",
    "  download_from_google_drive('1gzGT8HoVNKY1i5HNQTKaSoCu7JHV4siR', 'jasper_10x5_dr_sp_nvgrad.zip')\n",
    "  !unzip jasper_10x5_dr_sp_nvgrad.zip\n",
    "  !mv checkpoint {project_name}/jasper_log_folder"
   ]
  },
  {
   "cell_type": "markdown",
   "metadata": {
    "colab_type": "text",
    "id": "95JShwLGB43D"
   },
   "source": [
    "## Transcribe Youtube Video\n",
    "\n",
    "We are going to make speech recognition on the following youtube video:"
   ]
  },
  {
   "cell_type": "code",
   "execution_count": 12,
   "metadata": {
    "colab": {
     "base_uri": "https://localhost:8080/",
     "height": 320
    },
    "colab_type": "code",
    "id": "tPAof_X3A6ZE",
    "outputId": "ae5a425f-4840-4483-e6c7-2af5fce02a03"
   },
   "outputs": [
    {
     "data": {
      "image/jpeg": "[encoded data removed]",
      "text/html": [
       "\n",
       "        <iframe\n",
       "            width=\"400\"\n",
       "            height=\"300\"\n",
       "            src=\"https://www.youtube.com/embed/k3kMQBJepCQ\"\n",
       "            frameborder=\"0\"\n",
       "            allowfullscreen\n",
       "        ></iframe>\n",
       "        "
      ],
      "text/plain": [
       "<IPython.lib.display.YouTubeVideo at 0x7f429715c9b0>"
      ]
     },
     "execution_count": 12,
     "metadata": {
      "tags": []
     },
     "output_type": "execute_result"
    }
   ],
   "source": [
    "YOUTUBE_ID = 'k3kMQBJepCQ'\n",
    "\n",
    "\n",
    "YouTubeVideo(YOUTUBE_ID)"
   ]
  },
  {
   "cell_type": "markdown",
   "metadata": {
    "colab_type": "text",
    "id": "pCVbBWEaB5cV"
   },
   "source": [
    "Download the above video, convert to a WAV file and do speech recognition:\n"
   ]
  },
  {
   "cell_type": "code",
   "execution_count": 5,
   "metadata": {
    "colab": {
     "base_uri": "https://localhost:8080/",
     "height": 906
    },
    "colab_type": "code",
    "id": "3SEb2XewWu7c",
    "outputId": "94634542-be0b-4452-bf0c-f8e75ded90f6"
   },
   "outputs": [
    {
     "name": "stdout",
     "output_type": "stream",
     "text": [
      "Collecting tensorflow-gpu==1.15\n",
      "\u001b[?25l  Downloading https://files.pythonhosted.org/packages/a5/ad/933140e74973fb917a194ab814785e7c23680ca5dee6d663a509fe9579b6/tensorflow_gpu-1.15.0-cp36-cp36m-manylinux2010_x86_64.whl (411.5MB)\n",
      "\u001b[K     |████████████████████████████████| 411.5MB 39kB/s \n",
      "\u001b[?25hRequirement already satisfied: wheel>=0.26 in /usr/local/lib/python3.6/dist-packages (from tensorflow-gpu==1.15) (0.34.2)\n",
      "Requirement already satisfied: grpcio>=1.8.6 in /usr/local/lib/python3.6/dist-packages (from tensorflow-gpu==1.15) (1.30.0)\n",
      "Requirement already satisfied: astor>=0.6.0 in /usr/local/lib/python3.6/dist-packages (from tensorflow-gpu==1.15) (0.8.1)\n",
      "Requirement already satisfied: protobuf>=3.6.1 in /usr/local/lib/python3.6/dist-packages (from tensorflow-gpu==1.15) (3.10.0)\n",
      "Requirement already satisfied: six>=1.10.0 in /usr/local/lib/python3.6/dist-packages (from tensorflow-gpu==1.15) (1.12.0)\n",
      "Requirement already satisfied: keras-preprocessing>=1.0.5 in /usr/local/lib/python3.6/dist-packages (from tensorflow-gpu==1.15) (1.1.2)\n",
      "Requirement already satisfied: wrapt>=1.11.1 in /usr/local/lib/python3.6/dist-packages (from tensorflow-gpu==1.15) (1.12.1)\n",
      "Requirement already satisfied: keras-applications>=1.0.8 in /usr/local/lib/python3.6/dist-packages (from tensorflow-gpu==1.15) (1.0.8)\n",
      "Collecting tensorboard<1.16.0,>=1.15.0\n",
      "\u001b[?25l  Downloading https://files.pythonhosted.org/packages/1e/e9/d3d747a97f7188f48aa5eda486907f3b345cd409f0a0850468ba867db246/tensorboard-1.15.0-py3-none-any.whl (3.8MB)\n",
      "\u001b[K     |████████████████████████████████| 3.8MB 46.0MB/s \n",
      "\u001b[?25hRequirement already satisfied: absl-py>=0.7.0 in /usr/local/lib/python3.6/dist-packages (from tensorflow-gpu==1.15) (0.9.0)\n",
      "Requirement already satisfied: termcolor>=1.1.0 in /usr/local/lib/python3.6/dist-packages (from tensorflow-gpu==1.15) (1.1.0)\n",
      "Requirement already satisfied: numpy<2.0,>=1.16.0 in /usr/local/lib/python3.6/dist-packages (from tensorflow-gpu==1.15) (1.18.5)\n",
      "Requirement already satisfied: google-pasta>=0.1.6 in /usr/local/lib/python3.6/dist-packages (from tensorflow-gpu==1.15) (0.2.0)\n",
      "Requirement already satisfied: opt-einsum>=2.3.2 in /usr/local/lib/python3.6/dist-packages (from tensorflow-gpu==1.15) (3.2.1)\n",
      "Collecting gast==0.2.2\n",
      "  Downloading https://files.pythonhosted.org/packages/4e/35/11749bf99b2d4e3cceb4d55ca22590b0d7c2c62b9de38ac4a4a7f4687421/gast-0.2.2.tar.gz\n",
      "Collecting tensorflow-estimator==1.15.1\n",
      "\u001b[?25l  Downloading https://files.pythonhosted.org/packages/de/62/2ee9cd74c9fa2fa450877847ba560b260f5d0fb70ee0595203082dafcc9d/tensorflow_estimator-1.15.1-py2.py3-none-any.whl (503kB)\n",
      "\u001b[K     |████████████████████████████████| 512kB 43.4MB/s \n",
      "\u001b[?25hRequirement already satisfied: setuptools in /usr/local/lib/python3.6/dist-packages (from protobuf>=3.6.1->tensorflow-gpu==1.15) (47.3.1)\n",
      "Requirement already satisfied: h5py in /usr/local/lib/python3.6/dist-packages (from keras-applications>=1.0.8->tensorflow-gpu==1.15) (2.10.0)\n",
      "Requirement already satisfied: werkzeug>=0.11.15 in /usr/local/lib/python3.6/dist-packages (from tensorboard<1.16.0,>=1.15.0->tensorflow-gpu==1.15) (1.0.1)\n",
      "Requirement already satisfied: markdown>=2.6.8 in /usr/local/lib/python3.6/dist-packages (from tensorboard<1.16.0,>=1.15.0->tensorflow-gpu==1.15) (3.2.2)\n",
      "Requirement already satisfied: importlib-metadata; python_version < \"3.8\" in /usr/local/lib/python3.6/dist-packages (from markdown>=2.6.8->tensorboard<1.16.0,>=1.15.0->tensorflow-gpu==1.15) (1.6.1)\n",
      "Requirement already satisfied: zipp>=0.5 in /usr/local/lib/python3.6/dist-packages (from importlib-metadata; python_version < \"3.8\"->markdown>=2.6.8->tensorboard<1.16.0,>=1.15.0->tensorflow-gpu==1.15) (3.1.0)\n",
      "Building wheels for collected packages: gast\n",
      "  Building wheel for gast (setup.py) ... \u001b[?25l\u001b[?25hdone\n",
      "  Created wheel for gast: filename=gast-0.2.2-cp36-none-any.whl size=7540 sha256=eac1294666b84954eaa967ca4f04a33feb5248e5922aa5b01cf7612d6016cd4f\n",
      "  Stored in directory: /root/.cache/pip/wheels/5c/2e/7e/a1d4d4fcebe6c381f378ce7743a3ced3699feb89bcfbdadadd\n",
      "Successfully built gast\n",
      "\u001b[31mERROR: tensorflow 2.2.0 has requirement gast==0.3.3, but you'll have gast 0.2.2 which is incompatible.\u001b[0m\n",
      "\u001b[31mERROR: tensorflow 2.2.0 has requirement tensorboard<2.3.0,>=2.2.0, but you'll have tensorboard 1.15.0 which is incompatible.\u001b[0m\n",
      "\u001b[31mERROR: tensorflow 2.2.0 has requirement tensorflow-estimator<2.3.0,>=2.2.0, but you'll have tensorflow-estimator 1.15.1 which is incompatible.\u001b[0m\n",
      "\u001b[31mERROR: tensorflow-probability 0.10.0 has requirement gast>=0.3.2, but you'll have gast 0.2.2 which is incompatible.\u001b[0m\n",
      "Installing collected packages: tensorboard, gast, tensorflow-estimator, tensorflow-gpu\n",
      "  Found existing installation: tensorboard 2.2.2\n",
      "    Uninstalling tensorboard-2.2.2:\n",
      "      Successfully uninstalled tensorboard-2.2.2\n",
      "  Found existing installation: gast 0.3.3\n",
      "    Uninstalling gast-0.3.3:\n",
      "      Successfully uninstalled gast-0.3.3\n",
      "  Found existing installation: tensorflow-estimator 2.2.0\n",
      "    Uninstalling tensorflow-estimator-2.2.0:\n",
      "      Successfully uninstalled tensorflow-estimator-2.2.0\n",
      "Successfully installed gast-0.2.2 tensorboard-1.15.0 tensorflow-estimator-1.15.1 tensorflow-gpu-1.15.0\n"
     ]
    }
   ],
   "source": [
    "!pip install tensorflow-gpu==1.15"
   ]
  },
  {
   "cell_type": "code",
   "execution_count": 6,
   "metadata": {
    "colab": {
     "base_uri": "https://localhost:8080/",
     "height": 126
    },
    "colab_type": "code",
    "id": "pnW3I7dCXLjA",
    "outputId": "70381697-4622-4fc2-a752-216c1f6f6e5c"
   },
   "outputs": [
    {
     "name": "stdout",
     "output_type": "stream",
     "text": [
      "Go to this URL in a browser: https://accounts.google.com/o/oauth2/auth?client_id=947318989803-6bn6qk8qdgf4n4g3pfee6491hc0brc4i.apps.googleusercontent.com&redirect_uri=urn%3aietf%3awg%3aoauth%3a2.0%3aoob&response_type=code&scope=email%20https%3a%2f%2fwww.googleapis.com%2fauth%2fdocs.test%20https%3a%2f%2fwww.googleapis.com%2fauth%2fdrive%20https%3a%2f%2fwww.googleapis.com%2fauth%2fdrive.photos.readonly%20https%3a%2f%2fwww.googleapis.com%2fauth%2fpeopleapi.readonly\n",
      "\n",
      "Enter your authorization code:\n",
      "··········\n",
      "Mounted at /content/gdrive\n"
     ]
    }
   ],
   "source": [
    "from google.colab import drive\n",
    "drive.mount('/content/gdrive')"
   ]
  },
  {
   "cell_type": "code",
   "execution_count": 7,
   "metadata": {
    "colab": {},
    "colab_type": "code",
    "id": "r94JiT73XUS0"
   },
   "outputs": [],
   "source": [
    "root_path = 'My Drive/Colab Notebooks/'"
   ]
  },
  {
   "cell_type": "code",
   "execution_count": 8,
   "metadata": {
    "colab": {
     "base_uri": "https://localhost:8080/",
     "height": 35
    },
    "colab_type": "code",
    "id": "3tmOIJg_XU9P",
    "outputId": "698240cf-5fc0-4b24-e94a-52740b93a0d2"
   },
   "outputs": [
    {
     "name": "stdout",
     "output_type": "stream",
     "text": [
      "/content/gdrive/My Drive/Colab Notebooks\n"
     ]
    }
   ],
   "source": [
    "cd gdrive/My Drive/Colab Notebooks"
   ]
  },
  {
   "cell_type": "code",
   "execution_count": 13,
   "metadata": {
    "colab": {
     "base_uri": "https://localhost:8080/",
     "height": 1000
    },
    "colab_type": "code",
    "id": "fZwM0GtmA7mX",
    "outputId": "97d631c1-c87c-45bd-cf57-60867169a17d"
   },
   "outputs": [
    {
     "name": "stdout",
     "output_type": "stream",
     "text": [
      "[youtube] k3kMQBJepCQ: Downloading webpage\n",
      "[download] Destination: downloaded.m4a\n",
      "\u001b[K[download] 100% of 820.21KiB in 00:01\n",
      "[ffmpeg] Correcting container in \"downloaded.m4a\"\n",
      "[ffmpeg] Destination: downloaded.wav\n",
      "Deleting original file downloaded.m4a (pass -k to keep)\n",
      "WARNING:tensorflow:From /content/gdrive/My Drive/Colab Notebooks/OpenSeq2Seq/open_seq2seq/utils/hooks.py:15: The name tf.train.SessionRunHook is deprecated. Please use tf.estimator.SessionRunHook instead.\n",
      "\n",
      "WARNING:tensorflow:From /content/gdrive/My Drive/Colab Notebooks/OpenSeq2Seq/open_seq2seq/utils/helpers.py:181: The name tf.train.SessionCreator is deprecated. Please use tf.compat.v1.train.SessionCreator instead.\n",
      "\n",
      "WARNING:tensorflow:From /content/gdrive/My Drive/Colab Notebooks/OpenSeq2Seq/open_seq2seq/utils/helpers.py:240: The name tf.train.Scaffold is deprecated. Please use tf.compat.v1.train.Scaffold instead.\n",
      "\n",
      "WARNING:tensorflow:From /content/gdrive/My Drive/Colab Notebooks/OpenSeq2Seq/open_seq2seq/utils/helpers.py:285: The name tf.train.SessionManager is deprecated. Please use tf.compat.v1.train.SessionManager instead.\n",
      "\n",
      "-k\n",
      "WARNING:tensorflow:From /content/gdrive/My Drive/Colab Notebooks/OpenSeq2Seq/open_seq2seq/optimizers/mp_wrapper.py:27: The name tf.train.Optimizer is deprecated. Please use tf.compat.v1.train.Optimizer instead.\n",
      "\n",
      "WARNING:tensorflow:From /content/gdrive/My Drive/Colab Notebooks/OpenSeq2Seq/open_seq2seq/optimizers/optimizers.py:37: The name tf.train.AdagradOptimizer is deprecated. Please use tf.compat.v1.train.AdagradOptimizer instead.\n",
      "\n",
      "WARNING:tensorflow:From /content/gdrive/My Drive/Colab Notebooks/OpenSeq2Seq/open_seq2seq/optimizers/optimizers.py:38: The name tf.train.AdamOptimizer is deprecated. Please use tf.compat.v1.train.AdamOptimizer instead.\n",
      "\n",
      "WARNING:tensorflow:From /content/gdrive/My Drive/Colab Notebooks/OpenSeq2Seq/open_seq2seq/optimizers/optimizers.py:39: The name tf.train.FtrlOptimizer is deprecated. Please use tf.compat.v1.train.FtrlOptimizer instead.\n",
      "\n",
      "WARNING:tensorflow:From /content/gdrive/My Drive/Colab Notebooks/OpenSeq2Seq/open_seq2seq/optimizers/optimizers.py:40: The name tf.train.MomentumOptimizer is deprecated. Please use tf.compat.v1.train.MomentumOptimizer instead.\n",
      "\n",
      "WARNING:tensorflow:From /content/gdrive/My Drive/Colab Notebooks/OpenSeq2Seq/open_seq2seq/optimizers/optimizers.py:41: The name tf.train.RMSPropOptimizer is deprecated. Please use tf.compat.v1.train.RMSPropOptimizer instead.\n",
      "\n",
      "WARNING:tensorflow:From /content/gdrive/My Drive/Colab Notebooks/OpenSeq2Seq/open_seq2seq/optimizers/optimizers.py:42: The name tf.train.GradientDescentOptimizer is deprecated. Please use tf.compat.v1.train.GradientDescentOptimizer instead.\n",
      "\n",
      "WARNING:tensorflow:\n",
      "The TensorFlow contrib module will not be included in TensorFlow 2.0.\n",
      "For more information, please see:\n",
      "  * https://github.com/tensorflow/community/blob/master/rfcs/20180907-contrib-sunset.md\n",
      "  * https://github.com/tensorflow/addons\n",
      "  * https://github.com/tensorflow/io (for I/O related ops)\n",
      "If you depend on functionality not listed there, please file an issue.\n",
      "\n",
      "WARNING:tensorflow:From /content/gdrive/My Drive/Colab Notebooks/OpenSeq2Seq/open_seq2seq/parts/transformer/attention_layer.py:24: The name tf.layers.Layer is deprecated. Please use tf.compat.v1.layers.Layer instead.\n",
      "\n",
      "WARNING:tensorflow:From /content/gdrive/My Drive/Colab Notebooks/OpenSeq2Seq/open_seq2seq/parts/cnns/tcn.py:8: The name tf.layers.Conv1D is deprecated. Please use tf.compat.v1.layers.Conv1D instead.\n",
      "\n",
      "*** Restoring from the latest checkpoint\n",
      "*** Loading model from jasper_log_folder/model.ckpt-439200\n",
      "*** Inference config:\n",
      "{'batch_size_per_gpu': 1,\n",
      " 'data_layer': <class 'open_seq2seq.data.speech2text.speech2text.Speech2TextDataLayer'>,\n",
      " 'data_layer_params': {'backend': 'librosa',\n",
      "                       'dataset_files': ['test.csv'],\n",
      "                       'dither': 1e-05,\n",
      "                       'input_type': 'logfbank',\n",
      "                       'norm_per_feature': True,\n",
      "                       'num_audio_features': 64,\n",
      "                       'pad_to': 16,\n",
      "                       'precompute_mel_basis': True,\n",
      "                       'sample_freq': 16000,\n",
      "                       'shuffle': False,\n",
      "                       'vocab_file': 'open_seq2seq/test_utils/toy_speech_data/vocab.txt',\n",
      "                       'window': 'hanning'},\n",
      " 'decoder': <class 'open_seq2seq.decoders.fc_decoders.FullyConnectedCTCDecoder'>,\n",
      " 'decoder_params': {'infer_logits_to_pickle': False,\n",
      "                    'initializer': <function xavier_initializer at 0x7fc21b268b70>,\n",
      "                    'use_language_model': False},\n",
      " 'dtype': 'mixed',\n",
      " 'encoder': <class 'open_seq2seq.encoders.tdnn_encoder.TDNNEncoder'>,\n",
      " 'encoder_params': {'activation_fn': <function relu at 0x7fc245963a60>,\n",
      "                    'convnet_layers': [{'dilation': [1],\n",
      "                                        'dropout_keep_prob': 0.8,\n",
      "                                        'kernel_size': [11],\n",
      "                                        'num_channels': 256,\n",
      "                                        'padding': 'SAME',\n",
      "                                        'repeat': 1,\n",
      "                                        'stride': [2],\n",
      "                                        'type': 'conv1d'},\n",
      "                                       {'dilation': [1],\n",
      "                                        'dropout_keep_prob': 0.8,\n",
      "                                        'kernel_size': [11],\n",
      "                                        'num_channels': 256,\n",
      "                                        'padding': 'SAME',\n",
      "                                        'repeat': 5,\n",
      "                                        'residual': True,\n",
      "                                        'residual_dense': True,\n",
      "                                        'stride': [1],\n",
      "                                        'type': 'conv1d'},\n",
      "                                       {'dilation': [1],\n",
      "                                        'dropout_keep_prob': 0.8,\n",
      "                                        'kernel_size': [11],\n",
      "                                        'num_channels': 256,\n",
      "                                        'padding': 'SAME',\n",
      "                                        'repeat': 5,\n",
      "                                        'residual': True,\n",
      "                                        'residual_dense': True,\n",
      "                                        'stride': [1],\n",
      "                                        'type': 'conv1d'},\n",
      "                                       {'dilation': [1],\n",
      "                                        'dropout_keep_prob': 0.8,\n",
      "                                        'kernel_size': [13],\n",
      "                                        'num_channels': 384,\n",
      "                                        'padding': 'SAME',\n",
      "                                        'repeat': 5,\n",
      "                                        'residual': True,\n",
      "                                        'residual_dense': True,\n",
      "                                        'stride': [1],\n",
      "                                        'type': 'conv1d'},\n",
      "                                       {'dilation': [1],\n",
      "                                        'dropout_keep_prob': 0.8,\n",
      "                                        'kernel_size': [13],\n",
      "                                        'num_channels': 384,\n",
      "                                        'padding': 'SAME',\n",
      "                                        'repeat': 5,\n",
      "                                        'residual': True,\n",
      "                                        'residual_dense': True,\n",
      "                                        'stride': [1],\n",
      "                                        'type': 'conv1d'},\n",
      "                                       {'dilation': [1],\n",
      "                                        'dropout_keep_prob': 0.8,\n",
      "                                        'kernel_size': [17],\n",
      "                                        'num_channels': 512,\n",
      "                                        'padding': 'SAME',\n",
      "                                        'repeat': 5,\n",
      "                                        'residual': True,\n",
      "                                        'residual_dense': True,\n",
      "                                        'stride': [1],\n",
      "                                        'type': 'conv1d'},\n",
      "                                       {'dilation': [1],\n",
      "                                        'dropout_keep_prob': 0.8,\n",
      "                                        'kernel_size': [17],\n",
      "                                        'num_channels': 512,\n",
      "                                        'padding': 'SAME',\n",
      "                                        'repeat': 5,\n",
      "                                        'residual': True,\n",
      "                                        'residual_dense': True,\n",
      "                                        'stride': [1],\n",
      "                                        'type': 'conv1d'},\n",
      "                                       {'dilation': [1],\n",
      "                                        'dropout_keep_prob': 0.7,\n",
      "                                        'kernel_size': [21],\n",
      "                                        'num_channels': 640,\n",
      "                                        'padding': 'SAME',\n",
      "                                        'repeat': 5,\n",
      "                                        'residual': True,\n",
      "                                        'residual_dense': True,\n",
      "                                        'stride': [1],\n",
      "                                        'type': 'conv1d'},\n",
      "                                       {'dilation': [1],\n",
      "                                        'dropout_keep_prob': 0.7,\n",
      "                                        'kernel_size': [21],\n",
      "                                        'num_channels': 640,\n",
      "                                        'padding': 'SAME',\n",
      "                                        'repeat': 5,\n",
      "                                        'residual': True,\n",
      "                                        'residual_dense': True,\n",
      "                                        'stride': [1],\n",
      "                                        'type': 'conv1d'},\n",
      "                                       {'dilation': [1],\n",
      "                                        'dropout_keep_prob': 0.7,\n",
      "                                        'kernel_size': [25],\n",
      "                                        'num_channels': 768,\n",
      "                                        'padding': 'SAME',\n",
      "                                        'repeat': 5,\n",
      "                                        'residual': True,\n",
      "                                        'residual_dense': True,\n",
      "                                        'stride': [1],\n",
      "                                        'type': 'conv1d'},\n",
      "                                       {'dilation': [1],\n",
      "                                        'dropout_keep_prob': 0.7,\n",
      "                                        'kernel_size': [25],\n",
      "                                        'num_channels': 768,\n",
      "                                        'padding': 'SAME',\n",
      "                                        'repeat': 5,\n",
      "                                        'residual': True,\n",
      "                                        'residual_dense': True,\n",
      "                                        'stride': [1],\n",
      "                                        'type': 'conv1d'},\n",
      "                                       {'dilation': [2],\n",
      "                                        'dropout_keep_prob': 0.6,\n",
      "                                        'kernel_size': [29],\n",
      "                                        'num_channels': 896,\n",
      "                                        'padding': 'SAME',\n",
      "                                        'repeat': 1,\n",
      "                                        'stride': [1],\n",
      "                                        'type': 'conv1d'},\n",
      "                                       {'dilation': [1],\n",
      "                                        'dropout_keep_prob': 0.6,\n",
      "                                        'kernel_size': [1],\n",
      "                                        'num_channels': 1024,\n",
      "                                        'padding': 'SAME',\n",
      "                                        'repeat': 1,\n",
      "                                        'stride': [1],\n",
      "                                        'type': 'conv1d'}],\n",
      "                    'data_format': 'channels_last',\n",
      "                    'dropout_keep_prob': 0.7,\n",
      "                    'initializer': <function xavier_initializer at 0x7fc21b268b70>,\n",
      "                    'initializer_params': {'uniform': False},\n",
      "                    'normalization': 'batch_norm',\n",
      "                    'use_conv_mask': True},\n",
      " 'eval_steps': 2200,\n",
      " 'iter_size': 1,\n",
      " 'larc_params': {'larc_eta': 0.001},\n",
      " 'load_model': '',\n",
      " 'logdir': 'jasper_log_folder',\n",
      " 'loss': <class 'open_seq2seq.losses.ctc_loss.CTCLoss'>,\n",
      " 'loss_params': {},\n",
      " 'loss_scaling': 'Backoff',\n",
      " 'lr_policy': <function poly_decay at 0x7fc20df07950>,\n",
      " 'lr_policy_params': {'learning_rate': 0.02, 'min_lr': 1e-05, 'power': 2.0},\n",
      " 'num_checkpoints': 2,\n",
      " 'num_epochs': 400,\n",
      " 'num_gpus': 1,\n",
      " 'optimizer': <class 'open_seq2seq.optimizers.novograd.NovoGrad'>,\n",
      " 'optimizer_params': {'beta1': 0.95,\n",
      "                      'beta2': 0.98,\n",
      "                      'epsilon': 1e-08,\n",
      "                      'grad_averaging': False,\n",
      "                      'weight_decay': 0.001},\n",
      " 'print_loss_steps': 10,\n",
      " 'print_samples_steps': 2200,\n",
      " 'random_seed': 0,\n",
      " 'save_checkpoint_steps': 1100,\n",
      " 'save_summaries_steps': 100,\n",
      " 'summaries': ['learning_rate',\n",
      "               'variables',\n",
      "               'gradients',\n",
      "               'larc_summaries',\n",
      "               'variable_norm',\n",
      "               'gradient_norm',\n",
      "               'global_gradient_norm'],\n",
      " 'use_horovod': False,\n",
      " 'use_xla_jit': False}\n",
      "WARNING:tensorflow:From /content/gdrive/My Drive/Colab Notebooks/OpenSeq2Seq/open_seq2seq/models/model.py:312: The name tf.set_random_seed is deprecated. Please use tf.compat.v1.set_random_seed instead.\n",
      "\n",
      "WARNING:tensorflow:From /content/gdrive/My Drive/Colab Notebooks/OpenSeq2Seq/open_seq2seq/models/model.py:390: The name tf.variable_scope is deprecated. Please use tf.compat.v1.variable_scope instead.\n",
      "\n",
      "WARNING:tensorflow:From /content/gdrive/My Drive/Colab Notebooks/OpenSeq2Seq/open_seq2seq/models/model.py:391: The name tf.get_variable_scope is deprecated. Please use tf.compat.v1.get_variable_scope instead.\n",
      "\n",
      "*** Building graph on GPU:0\n",
      "WARNING:tensorflow:From /content/gdrive/My Drive/Colab Notebooks/OpenSeq2Seq/open_seq2seq/data/speech2text/speech2text.py:268: py_func (from tensorflow.python.ops.script_ops) is deprecated and will be removed in a future version.\n",
      "Instructions for updating:\n",
      "tf.py_func is deprecated in TF V2. Instead, there are two\n",
      "    options available in V2.\n",
      "    - tf.py_function takes a python function which manipulates tf eager\n",
      "    tensors instead of numpy arrays. It's easy to convert a tf eager tensor to\n",
      "    an ndarray (just call tensor.numpy()) but having access to eager tensors\n",
      "    means `tf.py_function`s can use accelerators such as GPUs as well as\n",
      "    being differentiable using a gradient tape.\n",
      "    - tf.numpy_function maintains the semantics of the deprecated tf.py_func\n",
      "    (it is not differentiable, and manipulates numpy arrays). It drops the\n",
      "    stateful argument making all functions stateful.\n",
      "    \n",
      "WARNING:tensorflow:Entity <function Speech2TextDataLayer.build_graph.<locals>.<lambda> at 0x7fc20ddf6620> could not be transformed and will be executed as-is. Please report this to the AutoGraph team. When filing the bug, set the verbosity to 10 (on Linux, `export AUTOGRAPH_VERBOSITY=10`) and attach the full output. Cause: Failed to parse source code of <function Speech2TextDataLayer.build_graph.<locals>.<lambda> at 0x7fc20ddf6620>, which Python reported as:\n",
      "            lambda x, x_len, idx, duration:\n",
      "\n",
      "If this is a lambda function, the error may be avoided by creating the lambda in a standalone statement.\n",
      "WARNING:tensorflow:From /content/gdrive/My Drive/Colab Notebooks/OpenSeq2Seq/open_seq2seq/data/speech2text/speech2text.py:296: DatasetV1.make_initializable_iterator (from tensorflow.python.data.ops.dataset_ops) is deprecated and will be removed in a future version.\n",
      "Instructions for updating:\n",
      "Use `for ... in dataset:` to iterate over a dataset. If using `tf.estimator`, return the `Dataset` object directly from your input function. As a last resort, you can use `tf.compat.v1.data.make_initializable_iterator(dataset)`.\n",
      "WARNING:tensorflow:From /content/gdrive/My Drive/Colab Notebooks/OpenSeq2Seq/open_seq2seq/data/speech2text/speech2text.py:316: The name tf.mod is deprecated. Please use tf.math.mod instead.\n",
      "\n",
      "WARNING:tensorflow:From /content/gdrive/My Drive/Colab Notebooks/OpenSeq2Seq/open_seq2seq/parts/cnns/conv_blocks.py:205: conv1d (from tensorflow.python.layers.convolutional) is deprecated and will be removed in a future version.\n",
      "Instructions for updating:\n",
      "Use `tf.keras.layers.Conv1D` instead.\n",
      "WARNING:tensorflow:From /usr/local/lib/python3.6/dist-packages/tensorflow_core/python/layers/convolutional.py:218: Layer.apply (from tensorflow.python.keras.engine.base_layer) is deprecated and will be removed in a future version.\n",
      "Instructions for updating:\n",
      "Please use `layer.__call__` method instead.\n",
      "WARNING:tensorflow:From /content/gdrive/My Drive/Colab Notebooks/OpenSeq2Seq/open_seq2seq/parts/cnns/conv_blocks.py:223: batch_normalization (from tensorflow.python.layers.normalization) is deprecated and will be removed in a future version.\n",
      "Instructions for updating:\n",
      "Use keras.layers.BatchNormalization instead.  In particular, `tf.control_dependencies(tf.GraphKeys.UPDATE_OPS)` should not be used (consult the `tf.keras.layers.batch_normalization` documentation).\n",
      "WARNING:tensorflow:From /content/gdrive/My Drive/Colab Notebooks/OpenSeq2Seq/open_seq2seq/encoders/tdnn_encoder.py:255: calling dropout (from tensorflow.python.ops.nn_ops) with keep_prob is deprecated and will be removed in a future version.\n",
      "Instructions for updating:\n",
      "Please use `rate` instead of `keep_prob`. Rate should be set to `rate = 1 - keep_prob`.\n",
      "WARNING:tensorflow:From /content/gdrive/My Drive/Colab Notebooks/OpenSeq2Seq/open_seq2seq/decoders/fc_decoders.py:139: dense (from tensorflow.python.layers.core) is deprecated and will be removed in a future version.\n",
      "Instructions for updating:\n",
      "Use keras.layers.Dense instead.\n",
      "*** Inference Mode. Loss part of graph isn't built.\n",
      "WARNING:tensorflow:From /content/gdrive/My Drive/Colab Notebooks/OpenSeq2Seq/open_seq2seq/utils/funcs.py:226: The name tf.train.Saver is deprecated. Please use tf.compat.v1.train.Saver instead.\n",
      "\n",
      "WARNING:tensorflow:From /content/gdrive/My Drive/Colab Notebooks/OpenSeq2Seq/open_seq2seq/utils/funcs.py:227: The name tf.ConfigProto is deprecated. Please use tf.compat.v1.ConfigProto instead.\n",
      "\n",
      "WARNING:tensorflow:From /content/gdrive/My Drive/Colab Notebooks/OpenSeq2Seq/open_seq2seq/utils/funcs.py:233: The name tf.Session is deprecated. Please use tf.compat.v1.Session instead.\n",
      "\n",
      "2020-06-28 00:45:43.937716: I tensorflow/core/platform/cpu_feature_guard.cc:142] Your CPU supports instructions that this TensorFlow binary was not compiled to use: AVX2 FMA\n",
      "2020-06-28 00:45:43.964002: I tensorflow/core/platform/profile_utils/cpu_utils.cc:94] CPU Frequency: 2300000000 Hz\n",
      "2020-06-28 00:45:43.964362: I tensorflow/compiler/xla/service/service.cc:168] XLA service 0x40c16c0 initialized for platform Host (this does not guarantee that XLA will be used). Devices:\n",
      "2020-06-28 00:45:43.964418: I tensorflow/compiler/xla/service/service.cc:176]   StreamExecutor device (0): Host, Default Version\n",
      "2020-06-28 00:45:43.985337: I tensorflow/stream_executor/platform/default/dso_loader.cc:44] Successfully opened dynamic library libcuda.so.1\n",
      "2020-06-28 00:45:44.185612: I tensorflow/stream_executor/cuda/cuda_gpu_executor.cc:983] successful NUMA node read from SysFS had negative value (-1), but there must be at least one NUMA node, so returning NUMA node zero\n",
      "2020-06-28 00:45:44.186525: I tensorflow/compiler/xla/service/service.cc:168] XLA service 0x40c08c0 initialized for platform CUDA (this does not guarantee that XLA will be used). Devices:\n",
      "2020-06-28 00:45:44.186559: I tensorflow/compiler/xla/service/service.cc:176]   StreamExecutor device (0): Tesla P100-PCIE-16GB, Compute Capability 6.0\n",
      "2020-06-28 00:45:44.187235: I tensorflow/stream_executor/cuda/cuda_gpu_executor.cc:983] successful NUMA node read from SysFS had negative value (-1), but there must be at least one NUMA node, so returning NUMA node zero\n",
      "2020-06-28 00:45:44.187999: I tensorflow/core/common_runtime/gpu/gpu_device.cc:1618] Found device 0 with properties: \n",
      "name: Tesla P100-PCIE-16GB major: 6 minor: 0 memoryClockRate(GHz): 1.3285\n",
      "pciBusID: 0000:00:04.0\n",
      "2020-06-28 00:45:44.203962: I tensorflow/stream_executor/platform/default/dso_loader.cc:44] Successfully opened dynamic library libcudart.so.10.0\n",
      "2020-06-28 00:45:44.389516: I tensorflow/stream_executor/platform/default/dso_loader.cc:44] Successfully opened dynamic library libcublas.so.10.0\n",
      "2020-06-28 00:45:44.484771: I tensorflow/stream_executor/platform/default/dso_loader.cc:44] Successfully opened dynamic library libcufft.so.10.0\n",
      "2020-06-28 00:45:44.506918: I tensorflow/stream_executor/platform/default/dso_loader.cc:44] Successfully opened dynamic library libcurand.so.10.0\n",
      "2020-06-28 00:45:44.760172: I tensorflow/stream_executor/platform/default/dso_loader.cc:44] Successfully opened dynamic library libcusolver.so.10.0\n",
      "2020-06-28 00:45:44.876340: I tensorflow/stream_executor/platform/default/dso_loader.cc:44] Successfully opened dynamic library libcusparse.so.10.0\n",
      "2020-06-28 00:45:45.385649: I tensorflow/stream_executor/platform/default/dso_loader.cc:44] Successfully opened dynamic library libcudnn.so.7\n",
      "2020-06-28 00:45:45.386059: I tensorflow/stream_executor/cuda/cuda_gpu_executor.cc:983] successful NUMA node read from SysFS had negative value (-1), but there must be at least one NUMA node, so returning NUMA node zero\n",
      "2020-06-28 00:45:45.387010: I tensorflow/stream_executor/cuda/cuda_gpu_executor.cc:983] successful NUMA node read from SysFS had negative value (-1), but there must be at least one NUMA node, so returning NUMA node zero\n",
      "2020-06-28 00:45:45.387644: I tensorflow/core/common_runtime/gpu/gpu_device.cc:1746] Adding visible gpu devices: 0\n",
      "2020-06-28 00:45:45.391056: I tensorflow/stream_executor/platform/default/dso_loader.cc:44] Successfully opened dynamic library libcudart.so.10.0\n",
      "2020-06-28 00:45:45.392792: I tensorflow/core/common_runtime/gpu/gpu_device.cc:1159] Device interconnect StreamExecutor with strength 1 edge matrix:\n",
      "2020-06-28 00:45:45.392829: I tensorflow/core/common_runtime/gpu/gpu_device.cc:1165]      0 \n",
      "2020-06-28 00:45:45.392847: I tensorflow/core/common_runtime/gpu/gpu_device.cc:1178] 0:   N \n",
      "2020-06-28 00:45:45.393381: I tensorflow/stream_executor/cuda/cuda_gpu_executor.cc:983] successful NUMA node read from SysFS had negative value (-1), but there must be at least one NUMA node, so returning NUMA node zero\n",
      "2020-06-28 00:45:45.394161: I tensorflow/stream_executor/cuda/cuda_gpu_executor.cc:983] successful NUMA node read from SysFS had negative value (-1), but there must be at least one NUMA node, so returning NUMA node zero\n",
      "2020-06-28 00:45:45.394783: I tensorflow/core/common_runtime/gpu/gpu_device.cc:1304] Created TensorFlow device (/job:localhost/replica:0/task:0/device:GPU:0 with 15216 MB memory) -> physical GPU (device: 0, name: Tesla P100-PCIE-16GB, pci bus id: 0000:00:04.0, compute capability: 6.0)\n",
      "WARNING:tensorflow:From /content/gdrive/My Drive/Colab Notebooks/OpenSeq2Seq/open_seq2seq/utils/helpers.py:482: The name tf.train.NewCheckpointReader is deprecated. Please use tf.compat.v1.train.NewCheckpointReader instead.\n",
      "\n",
      "WARNING:tensorflow:From /content/gdrive/My Drive/Colab Notebooks/OpenSeq2Seq/open_seq2seq/utils/helpers.py:485: The name tf.trainable_variables is deprecated. Please use tf.compat.v1.trainable_variables instead.\n",
      "\n",
      "WARNING:tensorflow:From /content/gdrive/My Drive/Colab Notebooks/OpenSeq2Seq/open_seq2seq/utils/helpers.py:487: The name tf.get_collection is deprecated. Please use tf.compat.v1.get_collection instead.\n",
      "\n",
      "WARNING:tensorflow:From /content/gdrive/My Drive/Colab Notebooks/OpenSeq2Seq/open_seq2seq/utils/helpers.py:487: The name tf.GraphKeys is deprecated. Please use tf.compat.v1.GraphKeys instead.\n",
      "\n",
      "WARNING:tensorflow:From /usr/local/lib/python3.6/dist-packages/tensorflow_core/python/util/decorator_utils.py:145: GraphKeys.VARIABLES (from tensorflow.python.framework.ops) is deprecated and will be removed in a future version.\n",
      "Instructions for updating:\n",
      "Use `tf.GraphKeys.GLOBAL_VARIABLES` instead.\n",
      "2020-06-28 00:45:45.882509: W tensorflow/core/framework/cpu_allocator_impl.cc:81] Allocation of 17203200 exceeds 10% of system memory.\n",
      "2020-06-28 00:45:45.923530: W tensorflow/core/framework/cpu_allocator_impl.cc:81] Allocation of 17203200 exceeds 10% of system memory.\n",
      "2020-06-28 00:45:45.955445: W tensorflow/core/framework/cpu_allocator_impl.cc:81] Allocation of 17203200 exceeds 10% of system memory.\n",
      "2020-06-28 00:45:45.998104: W tensorflow/core/framework/cpu_allocator_impl.cc:81] Allocation of 17203200 exceeds 10% of system memory.\n",
      "2020-06-28 00:45:46.026416: W tensorflow/core/framework/cpu_allocator_impl.cc:81] Allocation of 17203200 exceeds 10% of system memory.\n",
      "2020-06-28 00:45:58.677482: I tensorflow/stream_executor/platform/default/dso_loader.cc:44] Successfully opened dynamic library libcublas.so.10.0\n",
      "2020-06-28 00:46:02.208892: I tensorflow/stream_executor/platform/default/dso_loader.cc:44] Successfully opened dynamic library libcudnn.so.7\n",
      "*** Processed 1/1 batches\n",
      "*** Processed 1/1 batches\n",
      "*** Not enough steps for benchmarking\n",
      "*** Finished inference\n"
     ]
    }
   ],
   "source": [
    "!rm -rf *.wav\n",
    "!youtube-dl --extract-audio --audio-format wav --output \"downloaded.%(ext)s\" https://www.youtube.com/watch\\?v\\={YOUTUBE_ID}\n",
    "!ffmpeg -loglevel panic -y -i downloaded.wav -acodec pcm_s16le -ac 1 -ar 16000 {project_name}/test.wav\n",
    "!cd {project_name} && python run.py --config_file conf.py --mode=infer --infer_output_file=output.txt --use_horovod=False --num_gpus=1 --batch_size_per_gpu 1"
   ]
  },
  {
   "cell_type": "markdown",
   "metadata": {
    "colab_type": "text",
    "id": "OM2qVTWVdIhj"
   },
   "source": [
    "Print out the speech detection result:"
   ]
  },
  {
   "cell_type": "code",
   "execution_count": 14,
   "metadata": {
    "colab": {
     "base_uri": "https://localhost:8080/",
     "height": 55
    },
    "colab_type": "code",
    "id": "MQiHZu66XbbJ",
    "outputId": "bb3a80cf-fe87-44c3-dfd8-25ffdb5a0405"
   },
   "outputs": [
    {
     "name": "stdout",
     "output_type": "stream",
     "text": [
      "test.wav,hello crista krista listen out i needed a solof everything in financial sceptr and health ger sent her but also purchase pup five stuffs out of the energ stock and also health gare no what im sayings you know muturial stock wut doing frigat about the halt care and if you on a purchase apple an he should be over two hundred dollars but lest then two hundred fifty dollars but neath you and a salloff anything out of the helthker stock that you hadpersolles above one hundred dollars and again a need oo a purchased top five staffs out of their enrge stars it is the most\n"
     ]
    }
   ],
   "source": [
    "!tail -n1 {project_name}/output.txt"
   ]
  }
 ],
 "metadata": {
  "accelerator": "GPU",
  "colab": {
   "collapsed_sections": [],
   "name": "NVidiaJasper.ipynb",
   "provenance": []
  },
  "kernelspec": {
   "display_name": "Python 3",
   "language": "python",
   "name": "python3"
  },
  "language_info": {
   "codemirror_mode": {
    "name": "ipython",
    "version": 3
   },
   "file_extension": ".py",
   "mimetype": "text/x-python",
   "name": "python",
   "nbconvert_exporter": "python",
   "pygments_lexer": "ipython3",
   "version": "3.7.2"
  }
 },
 "nbformat": 4,
 "nbformat_minor": 1
}
